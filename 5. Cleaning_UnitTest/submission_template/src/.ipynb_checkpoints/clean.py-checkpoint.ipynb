{
 "cells": [
  {
   "cell_type": "code",
   "execution_count": 37,
   "id": "c054aa0a",
   "metadata": {},
   "outputs": [],
   "source": [
    "import pandas as pd\n",
    "import json\n",
    "import jsonschema as jsh\n",
    "from jsonschema import validate\n",
    "import datetime\n",
    "import pytz\n",
    "import dateutil.parser as parser\n",
    "#pytz for time"
   ]
  },
  {
   "cell_type": "code",
   "execution_count": 23,
   "id": "4e721e43",
   "metadata": {},
   "outputs": [
    {
     "ename": "SyntaxError",
     "evalue": "EOL while scanning string literal (743555468.py, line 1)",
     "output_type": "error",
     "traceback": [
      "\u001b[0;36m  File \u001b[0;32m\"/var/folders/nv/cw3f8ly11rz_fqddf1glkrz00000gn/T/ipykernel_26687/743555468.py\"\u001b[0;36m, line \u001b[0;32m1\u001b[0m\n\u001b[0;31m    '''' json.loads loads from a string; load loads from a file ''''\u001b[0m\n\u001b[0m                                                                    ^\u001b[0m\n\u001b[0;31mSyntaxError\u001b[0m\u001b[0;31m:\u001b[0m EOL while scanning string literal\n"
     ]
    }
   ],
   "source": [
    "'''' json.loads loads from a string; load loads from a file ''''"
   ]
  },
  {
   "cell_type": "code",
   "execution_count": 73,
   "id": "00d7deaf",
   "metadata": {},
   "outputs": [
    {
     "data": {
      "text/plain": [
       "['{\"title\": \"First title\", \"createdAt\": \"2020-10-19T02:56:51+0000\", \"text\": \"Some post content\", \"author\": \"druths\", \"total_count\": \"12\"}\\n',\n",
       " '{\"title_text\": \"Second title\", \"createdAt\": \"2020-10-18T02:56:51+0000\", \"text\": \"Some post content\", \"author\": \"druths\", \"tags\": [], \"total_count\": \"12.8\"}\\n',\n",
       " '{\"createdAt\": \"2020-10-19T02:56:51+0000\", \"text\": \"Some post content\", \"author\": \"druths\", \"tags\": [], \"total_count\": 19}\\n',\n",
       " '{\"title\": \"Third title\", \"createdAt\": \"2020-10-17T02:56:51+0900\", \"text\": \"Some post content\", \"author\": \"druths\", \"total_count\": 22, \"tags\": [\"data science\", \"data\", \"data annotation\"]}\\n',\n",
       " '{\"title_text\": \"Malformed JSON\", \"createdAt\": \"2020-10-17T02:56:51+0700\", \"text\": \"Some post content\", \"author\": \"druths\", \"total_count\": \"12\"\\n',\n",
       " '{\"title_text\": \"Fourth title\", \"createdAt\": \"2020-10-17T02:56:51+0700\", \"text\": \"Some post content\", \"author\": \"druths\", \"total_count\": 22.9, \"tags\": []}\\n',\n",
       " '{\"title_text\": \"Fifth title\", \"createdAt\": \"12345678\", \"text\": \"Some post content\", \"author\": \"druths\", \"total_count\": \"ten\"}\\n',\n",
       " '{\"title_text\": \"Fifth title\", \"createdAt\": \"2021-04-19T08:16:58+0700\", \"text\": \"Some post content\", \"author\": \"N/A\"}']"
      ]
     },
     "execution_count": 73,
     "metadata": {},
     "output_type": "execute_result"
    }
   ],
   "source": [
    "file = open('../data/example.json', 'r')\n",
    "jf = file.readlines()\n",
    "file.close()\n",
    "\n",
    "jf"
   ]
  },
  {
   "cell_type": "code",
   "execution_count": 6,
   "id": "7e8b9829",
   "metadata": {},
   "outputs": [],
   "source": [
    "schema = {\n",
    "    \"type\" : \"object\",\n",
    "    \"properties\" : {\n",
    "        \"title\" : {\"type\" : \"string\"},\n",
    "        \"title_text\" : {\"type\": \"string\"},\n",
    "        \"createdAt\" : {\n",
    "            \"type\" : \"string\", \n",
    "            \"format\" : \"date-time\"\n",
    "        },\n",
    "        \"text\" : {\"type\" : \"string\"},\n",
    "        \"author\" : {\"type\" : \"string\"},\n",
    "        \"total_count\" : {\n",
    "            #8. must be int float or string\n",
    "            \"type\" : [\"number\", \"string\"]\n",
    "        },\n",
    "        \"tags\" : {\"type\" : \"array\"}\n",
    "    },\n",
    "    #1. requires title ot title_text\n",
    "    \"anyOf\" : [\n",
    "        {\"required\" : [\"title\"]},\n",
    "        {\"required\" : [\"title_text\"]}\n",
    "    ]\n",
    "}"
   ]
  },
  {
   "cell_type": "code",
   "execution_count": 76,
   "id": "87731f8a",
   "metadata": {},
   "outputs": [],
   "source": [
    "temp = json.loads(jf[5])\n",
    "#print(validate(temp, schema = schema))"
   ]
  },
  {
   "cell_type": "code",
   "execution_count": 67,
   "id": "ef32db52",
   "metadata": {},
   "outputs": [],
   "source": [
    "def check_json(line):\n",
    "    try:\n",
    "        temp = json.loads(line)\n",
    "        validate(temp, schema) \n",
    "        return temp\n",
    "    except Exception as err:\n",
    "        return -1"
   ]
  },
  {
   "cell_type": "code",
   "execution_count": 8,
   "id": "4e6f3698",
   "metadata": {},
   "outputs": [],
   "source": [
    "#2. rename into title\n",
    "def rename_title(js):\n",
    "    try:\n",
    "        js['title'] = js.pop('title_text')\n",
    "        return js\n",
    "    except KeyError as err:\n",
    "        return js"
   ]
  },
  {
   "cell_type": "code",
   "execution_count": 35,
   "id": "a9d5cbaf",
   "metadata": {},
   "outputs": [],
   "source": [
    "#3. Standardize createdAt date times to the UTC timezone\n",
    "#4. remove if date time that can’t be parsed using the ISO datetime standard\n",
    "#did not check if createdAt is of type date\n",
    "def stand_date(js):\n",
    "    try:\n",
    "        date = js['createdAt']\n",
    "    except KeyError as err1:\n",
    "        return js\n",
    "    \n",
    "    try:\n",
    "        date = parser.parse(date)\n",
    "        js['createdAt'] = date.astimezone(pytz.utc).isoformat()\n",
    "        return js\n",
    "    except Exception as err2:\n",
    "        return -1"
   ]
  },
  {
   "cell_type": "code",
   "execution_count": 45,
   "id": "5bbfb41b",
   "metadata": {},
   "outputs": [],
   "source": [
    "#6. Remove all the posts where the author field is empty, null, or N/A.\n",
    "def check_author(js):\n",
    "    try:\n",
    "        author = js['author']\n",
    "        if author == 'null' or author == 'N/A' or len(author)==0 or author == None:\n",
    "            return -1\n",
    "        else:\n",
    "            return js\n",
    "    except KeyError as err:\n",
    "        return js"
   ]
  },
  {
   "cell_type": "code",
   "execution_count": 16,
   "id": "931c3cff",
   "metadata": {},
   "outputs": [],
   "source": [
    "#7.  total_count: change float and string to int\n",
    "def check_count(js):\n",
    "    try:\n",
    "        count = js['total_count']\n",
    "    except KeyError as err:\n",
    "        return js\n",
    "    \n",
    "    try:\n",
    "        js['total_count'] = int(float(count))\n",
    "        return js\n",
    "    except ValueError as err2:\n",
    "        return -1"
   ]
  },
  {
   "cell_type": "code",
   "execution_count": 17,
   "id": "2adb9e09",
   "metadata": {},
   "outputs": [],
   "source": [
    "#9. slice tags[] into individual words\n",
    "def slice_tag(js):\n",
    "    try:\n",
    "        tags = js['tags']\n",
    "        sentence = \" \".join(tags)\n",
    "        js['tags'] = sentence.split()\n",
    "        return js\n",
    "    \n",
    "    except KeyError as err:\n",
    "        return js"
   ]
  },
  {
   "cell_type": "code",
   "execution_count": 77,
   "id": "a95dab36",
   "metadata": {},
   "outputs": [
    {
     "name": "stdout",
     "output_type": "stream",
     "text": [
      "{'title_text': 'Fourth title', 'createdAt': '2020-10-17T02:56:51+0700', 'text': 'Some post content', 'author': 'druths', 'total_count': 22.9, 'tags': []}\n"
     ]
    }
   ],
   "source": [
    "a = slice_tag(temp)\n",
    "print(a)"
   ]
  },
  {
   "cell_type": "code",
   "execution_count": 68,
   "id": "e7e26e13",
   "metadata": {},
   "outputs": [
    {
     "name": "stdout",
     "output_type": "stream",
     "text": [
      "{'title': 'First title', 'createdAt': '2020-10-19T02:56:51+00:00', 'text': 'Some post content', 'author': 'druths', 'total_count': 12}\n",
      "{'createdAt': '2020-10-18T02:56:51+00:00', 'text': 'Some post content', 'author': 'druths', 'tags': [], 'total_count': 12, 'title': 'Second title'}\n",
      "{'title': 'Third title', 'createdAt': '2020-10-16T17:56:51+00:00', 'text': 'Some post content', 'author': 'druths', 'total_count': 22, 'tags': ['data', 'science', 'data', 'data', 'annotation']}\n"
     ]
    }
   ],
   "source": [
    "my_js = []\n",
    "\n",
    "for line in jf:\n",
    "    if check_json(line) == -1:\n",
    "        continue\n",
    "    temp = check_json(line)    \n",
    "    \n",
    "    if rename_title(temp) == -1:\n",
    "        continue\n",
    "    else:\n",
    "        temp = rename_title(temp)\n",
    "        \n",
    "    if stand_date(temp) == -1:\n",
    "        continue\n",
    "    else:\n",
    "        temp = stand_date(temp)\n",
    "            \n",
    "    if check_author(temp) == -1:\n",
    "        continue\n",
    "    else:\n",
    "        temp = check_author(temp)\n",
    "            \n",
    "    if check_count(temp) == -1:\n",
    "        continue\n",
    "    else:\n",
    "        temp = check_count(temp)\n",
    "            \n",
    "    #my_js.append(temp)\n",
    "    #except JSONDecodeError as err:\n",
    "\n",
    "        \n",
    "    temp = slice_tag(temp)\n",
    "    my_js.append(temp)\n",
    "    print(temp)\n",
    "#jf = ast.literal_eval(jf)\n",
    "\n",
    "#print(my_js)"
   ]
  },
  {
   "cell_type": "code",
   "execution_count": 56,
   "id": "21d5980a",
   "metadata": {},
   "outputs": [],
   "source": [
    "with open(\"../data/try.json\", \"w\") as output:\n",
    "    output.truncate(0)\n",
    "    for dic in my_js:\n",
    "        json.dump(dic, output)\n",
    "        output.write(\"\\n\")\n"
   ]
  },
  {
   "cell_type": "code",
   "execution_count": 62,
   "id": "8abdfa2a",
   "metadata": {},
   "outputs": [
    {
     "ename": "AttributeError",
     "evalue": "'list' object has no attribute 'equals'",
     "output_type": "error",
     "traceback": [
      "\u001b[0;31m---------------------------------------------------------------------------\u001b[0m",
      "\u001b[0;31mAttributeError\u001b[0m                            Traceback (most recent call last)",
      "\u001b[0;32m/var/folders/nv/cw3f8ly11rz_fqddf1glkrz00000gn/T/ipykernel_26687/770185206.py\u001b[0m in \u001b[0;36m<module>\u001b[0;34m\u001b[0m\n\u001b[1;32m      2\u001b[0m \u001b[0ma\u001b[0m\u001b[0;34m=\u001b[0m\u001b[0;34m[\u001b[0m\u001b[0;34m'a'\u001b[0m\u001b[0;34m,\u001b[0m \u001b[0;34m'b'\u001b[0m\u001b[0;34m,\u001b[0m \u001b[0;34m'c'\u001b[0m\u001b[0;34m]\u001b[0m\u001b[0;34m\u001b[0m\u001b[0;34m\u001b[0m\u001b[0m\n\u001b[1;32m      3\u001b[0m \u001b[0mb\u001b[0m\u001b[0;34m=\u001b[0m \u001b[0;34m[\u001b[0m\u001b[0;34m'b'\u001b[0m\u001b[0;34m,\u001b[0m\u001b[0;34m'c'\u001b[0m\u001b[0;34m,\u001b[0m\u001b[0;34m'a'\u001b[0m\u001b[0;34m]\u001b[0m\u001b[0;34m\u001b[0m\u001b[0;34m\u001b[0m\u001b[0m\n\u001b[0;32m----> 4\u001b[0;31m \u001b[0ma\u001b[0m\u001b[0;34m.\u001b[0m\u001b[0mequals\u001b[0m\u001b[0;34m(\u001b[0m\u001b[0mb\u001b[0m\u001b[0;34m)\u001b[0m\u001b[0;34m\u001b[0m\u001b[0;34m\u001b[0m\u001b[0m\n\u001b[0m",
      "\u001b[0;31mAttributeError\u001b[0m: 'list' object has no attribute 'equals'"
     ]
    }
   ],
   "source": [
    "import unittest\n",
    "a=['a', 'b', 'c']\n",
    "b= ['b','c','a']\n",
    "a.equalTo(b)"
   ]
  },
  {
   "cell_type": "code",
   "execution_count": null,
   "id": "5a71f626",
   "metadata": {},
   "outputs": [],
   "source": []
  }
 ],
 "metadata": {
  "kernelspec": {
   "display_name": "Python 3 (ipykernel)",
   "language": "python",
   "name": "python3"
  },
  "language_info": {
   "codemirror_mode": {
    "name": "ipython",
    "version": 3
   },
   "file_extension": ".py",
   "mimetype": "text/x-python",
   "name": "python",
   "nbconvert_exporter": "python",
   "pygments_lexer": "ipython3",
   "version": "3.8.11"
  }
 },
 "nbformat": 4,
 "nbformat_minor": 5
}
